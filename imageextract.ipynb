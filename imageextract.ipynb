{
 "cells": [
  {
   "cell_type": "markdown",
   "metadata": {},
   "source": [
    "# PDF Processing with LayoutLMv3\n",
    "\n",
    "This notebook demonstrates how to process PDF files using LayoutLMv3 for layout understanding and image extraction.\n",
    "CUDA Tooljit require 12.1++ "
   ]
  },
  {
   "cell_type": "markdown",
   "metadata": {},
   "source": [
    "## create environment"
   ]
  },
  {
   "cell_type": "markdown",
   "metadata": {},
   "source": [
    "GPU"
   ]
  },
  {
   "cell_type": "markdown",
   "metadata": {},
   "source": [
    "conda create --name LMMRAGwithGPU python=3.10"
   ]
  },
  {
   "cell_type": "code",
   "execution_count": null,
   "metadata": {},
   "outputs": [],
   "source": [
    "%pip install -r reqgpu.txt\n",
    "%pip install --extra-index-url https://miropsota.github.io/torch_packages_builder detectron2==0.6+pt2.3.1cu121\n",
    "%pip install pillow==8.4.0"
   ]
  },
  {
   "cell_type": "code",
   "execution_count": null,
   "metadata": {},
   "outputs": [],
   "source": [
    "# Cell 1: Import necessary libraries\n",
    "import os  \n",
    "import cv2  \n",
    "import yaml  \n",
    "import time  \n",
    "import pytz  \n",
    "import datetime  \n",
    "import json  \n",
    "from PIL import Image  \n",
    "from modules.extract_pdf import load_pdf_fitz  \n",
    "from modules.layoutlmv3.model_init import Layoutlmv3_Predictor"
   ]
  },
  {
   "cell_type": "code",
   "execution_count": null,
   "metadata": {},
   "outputs": [],
   "source": [
    "# Cell 2: Define layout model initialization function\n",
    "def layout_model_init(weight):  \n",
    "    model = Layoutlmv3_Predictor(weight)  \n",
    "    return model"
   ]
  },
  {
   "cell_type": "code",
   "execution_count": null,
   "metadata": {},
   "outputs": [],
   "source": [
    "# Cell 3: Define function to save images\n",
    "def save_image(image, output_dir, basename, page_idx, img_idx, img_format='png'):  \n",
    "    os.makedirs(output_dir, exist_ok=True)  \n",
    "    image_path = os.path.join(output_dir, f'{basename}_page_{page_idx + 1}_img_{img_idx + 1}.{img_format}')  \n",
    "    image.save(image_path)  \n",
    "    # print(f'Saved image {img_idx + 1} from page {page_idx + 1} to {image_path}')  \n",
    "    return image_path"
   ]
  },
  {
   "cell_type": "code",
   "execution_count": null,
   "metadata": {},
   "outputs": [],
   "source": [
    "# Cell 4: Setup environment and parse arguments\n",
    "pdf_path = 'demofile.pdf'  # Update as needed\n",
    "output_dir = 'output'  # Update as needed\n",
    "\n",
    "tz = pytz.timezone('Asia/Shanghai')  \n",
    "now = datetime.datetime.now(tz)  \n",
    "print(now.strftime('%Y-%m-%d %H:%M:%S'))  \n",
    "print('Started!')"
   ]
  },
  {
   "cell_type": "code",
   "execution_count": null,
   "metadata": {},
   "outputs": [],
   "source": [
    "# Cell 5: Load model configurations and initialize the model\n",
    "with open('configs/model_configs.yaml') as f:  \n",
    "    model_configs = yaml.load(f, Loader=yaml.FullLoader)  \n",
    "\n",
    "dpi = model_configs['model_args']['pdf_dpi']  \n",
    "layout_model = layout_model_init(model_configs['model_args']['layout_weight'])  \n",
    "print(now.strftime('%Y-%m-%d %H:%M:%S'))  \n",
    "print('Model init done!')"
   ]
  },
  {
   "cell_type": "code",
   "execution_count": null,
   "metadata": {},
   "outputs": [],
   "source": [
    "# Cell 6: Start processing the PDF\n",
    "start = time.time()  \n",
    "if os.path.isdir(pdf_path):  \n",
    "    all_pdfs = [os.path.join(pdf_path, name) for name in os.listdir(pdf_path)]  \n",
    "else:  \n",
    "    all_pdfs = [pdf_path]  \n",
    "print(\"Total files:\", len(all_pdfs))  \n",
    "\n",
    "for idx, single_pdf in enumerate(all_pdfs):  \n",
    "    print(f'Processing PDF: {single_pdf}')  \n",
    "    try:  \n",
    "        img_list = load_pdf_fitz(single_pdf, dpi=dpi)  \n",
    "        print(f'Loaded {len(img_list)} pages from {single_pdf}')  \n",
    "    except Exception as e:  \n",
    "        img_list = None  \n",
    "        print(f\"Error loading PDF {single_pdf}: {e}\")  \n",
    "    if img_list is None:  \n",
    "        continue"
   ]
  },
  {
   "cell_type": "code",
   "execution_count": null,
   "metadata": {},
   "outputs": [],
   "source": [
    "# Cell 7: Create directories for saving images\n",
    "basename = os.path.basename(single_pdf)[0:-4]  \n",
    "whole_page_dir = os.path.join(output_dir, f'{basename}_wholepageimage')  \n",
    "os.makedirs(whole_page_dir, exist_ok=True)  \n",
    "crop_img_dir = os.path.join(output_dir, f'{basename}_cropimage')  \n",
    "os.makedirs(crop_img_dir, exist_ok=True)  \n",
    "\n",
    "captions = []"
   ]
  },
  {
   "cell_type": "code",
   "execution_count": null,
   "metadata": {},
   "outputs": [],
   "source": [
    "# Cell 8: Process each page in the PDF\n",
    "for page_idx, image in (enumerate(img_list)):  \n",
    "    img_H, img_W = image.shape[0], image.shape[1]  \n",
    "    layout_res = layout_model(image, ignore_catids=[])  \n",
    "\n",
    "    # Save the whole page image  \n",
    "    whole_page_image_path = os.path.join(whole_page_dir, f'{basename}_page_{page_idx + 1}.png')  \n",
    "    Image.fromarray(cv2.cvtColor(image, cv2.COLOR_RGB2BGR)).save(whole_page_image_path)  \n",
    "    #print(f'Saved whole page image for page {page_idx + 1} to {whole_page_image_path}')  \n",
    "\n",
    "    img_idx = 0  \n",
    "    for item in layout_res['layout_dets']:  \n",
    "        category_id = item['category_id']  \n",
    "        poly = item['poly']  \n",
    "        xmin, ymin, xmax, ymax = int(poly[0]), int(poly[1]), int(poly[4]), int(poly[5])  \n",
    "\n",
    "        if category_id == 3:  # image category is 3  \n",
    "            crop_img = image[ymin:ymax, xmin:xmax]  \n",
    "            crop_img_pil = Image.fromarray(cv2.cvtColor(crop_img, cv2.COLOR_RGB2BGR))  \n",
    "            image_path = save_image(crop_img_pil, crop_img_dir, basename, page_idx, img_idx)  \n",
    "            img_idx += 1  \n",
    "\n",
    "            # Find the corresponding image name  \n",
    "            image_name = f'{basename}_page_{page_idx + 1}_img_{img_idx}.png'  \n",
    "            caption_entry = {  \n",
    "                'image': image_name,  \n",
    "                'page': page_idx + 1,  \n",
    "                'caption': ''  \n",
    "            }  \n",
    "            captions.append(caption_entry)"
   ]
  },
  {
   "cell_type": "code",
   "execution_count": null,
   "metadata": {},
   "outputs": [],
   "source": [
    "# Cell 9: Save the caption information to a JSON file\n",
    "info_output_path = os.path.join(output_dir,f'{basename}.json')  \n",
    "with open(info_output_path, 'w', encoding='utf-8') as f:  \n",
    "    json.dump(captions, f, ensure_ascii=False, indent=4)  \n",
    "print(f'Saved captions to {info_output_path}')"
   ]
  }
 ],
 "metadata": {
  "kernelspec": {
   "display_name": "Python 3 (ipykernel)",
   "language": "python",
   "name": "python3"
  },
  "language_info": {
   "codemirror_mode": {
    "name": "ipython",
    "version": 3
   },
   "file_extension": ".py",
   "mimetype": "text/x-python",
   "name": "python",
   "nbconvert_exporter": "python",
   "pygments_lexer": "ipython3",
   "version": "3.10.14"
  }
 },
 "nbformat": 4,
 "nbformat_minor": 2
}
