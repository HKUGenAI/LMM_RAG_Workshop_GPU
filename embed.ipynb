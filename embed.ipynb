{
 "cells": [
  {
   "cell_type": "markdown",
   "metadata": {},
   "source": [
    "# Embed with Azure AI\n",
    "After getting the `.json` files from `textOCR.ipynb`, this notebook demonstrates how to embed the files and save to `.parquet` format."
   ]
  },
  {
   "cell_type": "markdown",
   "metadata": {},
   "source": [
    "## Setup\n",
    "Import environment files as usual."
   ]
  },
  {
   "cell_type": "code",
   "execution_count": null,
   "metadata": {},
   "outputs": [],
   "source": [
    "import os\n",
    "import json\n",
    "from dotenv import load_dotenv\n",
    "from openai import AzureOpenAI\n",
    "import pandas as pd\n",
    "import time\n",
    "\n",
    "from openai import AzureOpenAI\n",
    "\n",
    "load_dotenv(override=True)\n",
    "endpoint = os.getenv(\"AZURE_DI_ENDPOINT\")\n",
    "key = os.getenv(\"AZURE_DI_KEY\")"
   ]
  },
  {
   "cell_type": "markdown",
   "metadata": {},
   "source": [
    "## Helper Functions\n",
    "The following are helper functions for embedding."
   ]
  },
  {
   "cell_type": "code",
   "execution_count": null,
   "metadata": {},
   "outputs": [],
   "source": [
    "def setup_embedding_client():\n",
    "    client = AzureOpenAI(\n",
    "        api_key = os.getenv(\"EMBEDDING_OPENAI_API_KEY\"),\n",
    "        api_version = os.getenv(\"EMBEDDING_OPENAI_API_VERSION\"),\n",
    "        azure_endpoint = os.getenv(\"EMBEDDING_OPENAI_API_ENDPOINT\")\n",
    "    )\n",
    "    return client"
   ]
  },
  {
   "cell_type": "code",
   "execution_count": null,
   "metadata": {},
   "outputs": [],
   "source": [
    "def embed_text(embedding_client, paragraph_results):\n",
    "    embedding_model = os.getenv(\"EMBEDDING_DEPLOYMENT_NAME\")\n",
    "    for count, item in enumerate(paragraph_results):\n",
    "        paragraph_results[count]['contentVector'] = embedding_client.embeddings.create(input = [item['content']], model=embedding_model).data[0].embedding\n",
    "        print(f\"Got {count+1} out of {len(paragraph_results)} embeddings\")\n",
    "    return paragraph_results"
   ]
  },
  {
   "cell_type": "code",
   "execution_count": null,
   "metadata": {},
   "outputs": [],
   "source": [
    "def embed_image(embedding_client, data):\n",
    "    embedding_model = os.getenv(\"EMBEDDING_DEPLOYMENT_NAME\")\n",
    "    for count, item in enumerate(data):\n",
    "        retry_count = 0\n",
    "        while retry_count < 2:\n",
    "            try:\n",
    "                data[count]['captionVector'] = embedding_client.embeddings.create(input = [item['caption']], model=embedding_model).data[0].embedding\n",
    "                print(f\"Got {count+1} out of {len(data)} embeddings\")\n",
    "                break\n",
    "            except (openai.BadRequestError, openai.InternalServerError) as e:\n",
    "                retry_count += 1\n",
    "                if retry_count == 2:\n",
    "                    print(f\"Error embedding {data[count]['image']} after retry\\n\")\n",
    "                    traceback.print_exc()\n",
    "                else:\n",
    "                    print(f\"Retrying to embed {data[count]['image']}\\n\")\n",
    "                    time.sleep(1)  # Wait for 1 second before retrying\n",
    "    return data"
   ]
  },
  {
   "cell_type": "markdown",
   "metadata": {},
   "source": [
    "## Embed and save to `.parquet` files\n",
    "Now we can embed the text and images separately and save the results to separate parquet files."
   ]
  },
  {
   "cell_type": "code",
   "execution_count": null,
   "metadata": {},
   "outputs": [],
   "source": [
    "# Change this to your own file name\n",
    "text_json_file_name = \"textOCR.json\"\n",
    "image_json_file_name = \"imagecaption.json\"\n",
    "with open(text_json_file_name, 'r') as document:\n",
    "    document_text = json.load(document)\n",
    "with open(image_json_file_name, 'r') as document:\n",
    "    document_image = json.load(document)\n",
    "embedding_client = setup_embedding_client()"
   ]
  },
  {
   "cell_type": "markdown",
   "metadata": {},
   "source": [
    "- Embed text and save to \"xxx_text.parquet\", clean any missing entries"
   ]
  },
  {
   "cell_type": "code",
   "execution_count": null,
   "metadata": {},
   "outputs": [],
   "source": [
    "start_time = time.time()\n",
    "paragraph_results = embed_text(embedding_client, document_text)\n",
    "df = pd.DataFrame(paragraph_results)\n",
    "\n",
    "# Remove rows with empty or missing 'content'\n",
    "df = df.dropna(subset=['content'])\n",
    "df = df[df['content'] != '']\n",
    "\n",
    "# Remove rows with empty or missing 'contentVector'\n",
    "df = df.dropna(subset=['contentVector'])\n",
    "df = df[df['contentVector'].apply(lambda x: len(x) > 0)]\n",
    "\n",
    "# Reset the index if needed\n",
    "df = df.reset_index(drop=True)\n",
    "\n",
    "print(df)\n",
    "text_parquet_file_name = \"demofile_text.parquet\"\n",
    "df.to_parquet(text_parquet_file_name, engine=\"pyarrow\")\n",
    "end_time = time.time()\n",
    "execution_time = end_time - start_time\n",
    "print(f\"Execution time: {execution_time:.2f} seconds\")"
   ]
  },
  {
   "cell_type": "markdown",
   "metadata": {},
   "source": [
    "- Embed images and save to \"xxx_image.parquet\""
   ]
  },
  {
   "cell_type": "code",
   "execution_count": null,
   "metadata": {},
   "outputs": [],
   "source": [
    "start_time = time.time()\n",
    "image_results = embed_image(embedding_client, document_image)\n",
    "df = pd.DataFrame(image_results)\n",
    "# Remove rows with empty or missing 'caption'\n",
    "df = df.dropna(subset=['caption'])\n",
    "df = df[df['caption'] != '']\n",
    "\n",
    "# Remove rows with empty or missing 'captionVector'\n",
    "df = df.dropna(subset=['captionVector'])\n",
    "df = df[df['captionVector'].apply(lambda x: len(x) > 0)]\n",
    "\n",
    "# Reset the index if needed\n",
    "df = df.reset_index(drop=True)\n",
    "\n",
    "print(df)\n",
    "image_parquet_file_name = \"demofile_image.parquet\"\n",
    "df.to_parquet(image_parquet_file_name, engine='pyarrow')\n",
    "end_time = time.time()\n",
    "execution_time = end_time - start_time\n",
    "print(f\"Execution time: {execution_time:.2f} seconds\")"
   ]
  },
  {
   "cell_type": "markdown",
   "metadata": {},
   "source": [
    "After getting the parquet files, check 'rag.ipynb' to run RAG on your own local dataset."
   ]
  }
 ],
 "metadata": {
  "kernelspec": {
   "display_name": "newRAG_0828",
   "language": "python",
   "name": "python3"
  },
  "language_info": {
   "codemirror_mode": {
    "name": "ipython",
    "version": 3
   },
   "file_extension": ".py",
   "mimetype": "text/x-python",
   "name": "python",
   "nbconvert_exporter": "python",
   "pygments_lexer": "ipython3",
   "version": "3.10.14"
  }
 },
 "nbformat": 4,
 "nbformat_minor": 2
}
